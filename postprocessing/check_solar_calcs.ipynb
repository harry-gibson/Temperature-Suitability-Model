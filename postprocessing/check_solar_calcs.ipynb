{
 "cells": [
  {
   "cell_type": "code",
   "execution_count": 11,
   "metadata": {
    "collapsed": false
   },
   "outputs": [],
   "source": [
    "import math as Math"
   ]
  },
  {
   "cell_type": "code",
   "execution_count": 100,
   "metadata": {
    "collapsed": false
   },
   "outputs": [],
   "source": [
    "def GetSunriseSunsetTimes(JulianDay, lat, lon):\n",
    "    return (GetSunriseSunsetTime (JulianDay, \"Sunrise\", lat, lon ),\n",
    "           GetSunriseSunsetTime (JulianDay, \"Sunset\", lat, lon))\n",
    "\n",
    "def GetSunriseSunsetTime(JulianDay, which, lat, lon):\n",
    "    \n",
    "    longitude_hr = lon / 15.0;\n",
    "    Zenith = 90.8333;\n",
    "    degConv = Math.pi / 180;\n",
    "\n",
    "    timeInit = None\n",
    "    if which == \"Sunrise\":\n",
    "        timeInit = JulianDay + ((6 - longitude_hr) / 24);\n",
    "    else:\n",
    "        timeInit = JulianDay + ((18 - longitude_hr) / 24);\n",
    "        \n",
    "    meanAnom = (0.9856 * timeInit) - 3.289;\n",
    "\n",
    "    sunLong = meanAnom +(\n",
    "        (1.916 * Math.sin(meanAnom * degConv)) +\n",
    "        (0.020 * Math.sin(2 * meanAnom * degConv)) +\n",
    "        282.634)\n",
    "    sunLong = (sunLong + 360) % 360;\n",
    "\n",
    "    rightAscension = ((180 / Math.pi) *\n",
    "        Math.atan(0.91764 * Math.tan(sunLong * degConv)))\n",
    "    rightAscension = (rightAscension + 360) % 360;\n",
    "    l_quadrant = (Math.floor(sunLong / 90)) * 90;\n",
    "    ra_quadrant = (Math.floor(rightAscension / 90)) * 90;\n",
    "    rightAscension += (l_quadrant - ra_quadrant);\n",
    "    rightAscension /= 15;\n",
    "\n",
    "    sinDecl = 0.39782 * Math.sin(sunLong * degConv);\n",
    "\n",
    "    cosDecl = Math.cos((Math.asin(sinDecl) * 180 / Math.pi) * degConv);\n",
    "\n",
    "    sunHourAngle = ((Math.cos(Zenith * degConv) -\n",
    "        (sinDecl * Math.sin(lat * degConv))) /\n",
    "        (cosDecl * Math.cos(lat * degConv)));\n",
    "\n",
    "    if (sunHourAngle > 1 or sunHourAngle < -1):\n",
    "        return -9999;\n",
    "    time = None\n",
    "    if which == \"Sunrise\":\n",
    "        time = 360 - Math.acos(sunHourAngle) * 180 / Math.pi;\n",
    "    else:\n",
    "        time = Math.acos(sunHourAngle) * 180 / Math.pi;\n",
    "        \n",
    "    time /= 15.0;\n",
    "    time = time + rightAscension - (0.06571 * timeInit) - 6.622;\n",
    "    #time = time - longitude_hr\n",
    "    #time = time -6\n",
    "    if (time > 24):\n",
    "        time -= 24;\n",
    "    elif (time < 0):\n",
    "        time += 24;\n",
    "    return time;\n"
   ]
  },
  {
   "cell_type": "code",
   "execution_count": 102,
   "metadata": {
    "collapsed": false
   },
   "outputs": [
    {
     "name": "stdout",
     "output_type": "stream",
     "text": [
      "(5.623000926792564, 18.32041779367851)\n"
     ]
    }
   ],
   "source": [
    "sRise, sSet = GetSunriseSunsetTimes(114, 18.233333333333, -91.3)\n",
    "print (sRise, sSet)"
   ]
  },
  {
   "cell_type": "code",
   "execution_count": null,
   "metadata": {
    "collapsed": true
   },
   "outputs": [],
   "source": [
    "91.3"
   ]
  },
  {
   "cell_type": "code",
   "execution_count": 48,
   "metadata": {
    "collapsed": false
   },
   "outputs": [],
   "source": [
    "prevSunsetTemp = None\n",
    "def InterpolateHourlyTemperature(hourOfDay, sunriseTime, sunsetTime, dayMinTemp, dayMaxTemp):\n",
    "    global prevSunsetTemp\n",
    "    if prevSunsetTemp is None:\n",
    "        prevSunsetTemp = dayMaxTemp\n",
    "    daylightHrs = sunsetTime - sunriseTime\n",
    "    hrTemp = None\n",
    "    if (hourOfDay >= sunriseTime and hourOfDay <= sunsetTime):\n",
    "        hrTemp = dayMinTemp + (dayMaxTemp - dayMinTemp) * (\n",
    "            Math.sin(Math.pi * (hourOfDay - sunriseTime) / (daylightHrs + 3.72)))\n",
    "        prevSunsetTemp = hrTemp\n",
    "    elif (hourOfDay > sunsetTime):\n",
    "        hrTemp = dayMinTemp + (prevSunsetTemp - dayMinTemp) * (\n",
    "            Math.exp(-2.2 * ((hourOfDay - sunsetTime) / (24 - daylightHrs))))\n",
    "    else: \n",
    "        hrTemp = dayMinTemp + (prevSunsetTemp - dayMinTemp) * (\n",
    "                    Math.exp(-2.2 * (((hourOfDay + 24) - sunsetTime) / (24 - daylightHrs))))\n",
    "    return hrTemp"
   ]
  },
  {
   "cell_type": "code",
   "execution_count": 59,
   "metadata": {
    "collapsed": false
   },
   "outputs": [],
   "source": [
    "minTemp, maxTemp = 18.947, 32.896"
   ]
  },
  {
   "cell_type": "code",
   "execution_count": 58,
   "metadata": {
    "collapsed": false
   },
   "outputs": [
    {
     "data": {
      "text/plain": [
       "28.745143100130903"
      ]
     },
     "execution_count": 58,
     "metadata": {},
     "output_type": "execute_result"
    }
   ],
   "source": [
    "prevSunsetTemp"
   ]
  },
  {
   "cell_type": "code",
   "execution_count": 51,
   "metadata": {
    "collapsed": true
   },
   "outputs": [],
   "source": [
    "hrs = range(0,24)"
   ]
  },
  {
   "cell_type": "code",
   "execution_count": 80,
   "metadata": {
    "collapsed": false
   },
   "outputs": [
    {
     "name": "stdout",
     "output_type": "stream",
     "text": [
      "(12.36901130973985, 1.4433035722948624)\n"
     ]
    },
    {
     "data": {
      "text/plain": [
       "[21.31927350169621,\n",
       " 21.174451104406753,\n",
       " 28.431391694313668,\n",
       " 27.85238917161947,\n",
       " 27.308733556991854,\n",
       " 26.79826699470324,\n",
       " 26.318963361661144,\n",
       " 25.86892022540286,\n",
       " 25.446351293038006,\n",
       " 25.049579321167535,\n",
       " 24.677029458637513,\n",
       " 24.327222995704076,\n",
       " 23.998771494798895,\n",
       " 23.690371279599344,\n",
       " 23.400798260529516,\n",
       " 23.12890307615373,\n",
       " 22.873606531177913,\n",
       " 22.633895312951594,\n",
       " 22.408817969468593,\n",
       " 22.197481132902457,\n",
       " 21.999045973687263,\n",
       " 21.812724871069467,\n",
       " 21.637778286915683,\n",
       " 21.473511830368025]"
      ]
     },
     "execution_count": 80,
     "metadata": {},
     "output_type": "execute_result"
    }
   ],
   "source": [
    "sRise, sSet = GetSunriseSunsetTimes(114, 28.233333333333, -104.0, 0)\n",
    "print (sRise, sSet)\n",
    "[InterpolateHourlyTemperature(hr, sRise, sSet, 18.947, 32.896) for hr in hrs]"
   ]
  },
  {
   "cell_type": "code",
   "execution_count": 76,
   "metadata": {
    "collapsed": false
   },
   "outputs": [
    {
     "name": "stdout",
     "output_type": "stream",
     "text": [
      "(6.36901130973985, 19.443303572294862)\n"
     ]
    },
    {
     "data": {
      "text/plain": [
       "[22.861379046960177,\n",
       " 22.147467058218123,\n",
       " 21.563759712806515,\n",
       " 21.086510037131763,\n",
       " 20.696302076375257,\n",
       " 20.377260994948692,\n",
       " 20.11640724034949,\n",
       " 20.58964569878832,\n",
       " 23.137091099425202,\n",
       " 25.53834133733848,\n",
       " 27.709615138817895,\n",
       " 29.57515526632551,\n",
       " 31.069871740661156,\n",
       " 32.14161287514166,\n",
       " 32.75298488384804,\n",
       " 32.88265657655636,\n",
       " 32.52610361864802,\n",
       " 31.695766388259003,\n",
       " 30.420615922923268,\n",
       " 28.745143100130903,\n",
       " 27.70612944380106,\n",
       " 26.108622547853095,\n",
       " 24.80247203600417,\n",
       " 23.734539769839614]"
      ]
     },
     "execution_count": 76,
     "metadata": {},
     "output_type": "execute_result"
    }
   ],
   "source": [
    "sRise, sSet = GetSunriseSunsetTimes(114, 28.233333333333, -104.0, -6)\n",
    "print (sRise, sSet)\n",
    "[InterpolateHourlyTemperature(hr, sRise, sSet, 18.947, 32.896) for hr in hrs]"
   ]
  },
  {
   "cell_type": "code",
   "execution_count": 78,
   "metadata": {
    "collapsed": false
   },
   "outputs": [
    {
     "name": "stdout",
     "output_type": "stream",
     "text": [
      "(6.38233595520529, 19.456642244005664)\n"
     ]
    },
    {
     "data": {
      "text/plain": [
       "[22.881810679049597,\n",
       " 22.164171498252195,\n",
       " 21.577416884927793,\n",
       " 21.097675831944986,\n",
       " 20.705430977468133,\n",
       " 20.38472457782407,\n",
       " 20.122509296734314,\n",
       " 20.55511263902727,\n",
       " 23.103911873904472,\n",
       " 25.50767383363302,\n",
       " 27.682529748481812,\n",
       " 29.552597524892214,\n",
       " 31.05262931954656,\n",
       " 32.130288077743565,\n",
       " 32.74797360622192,\n",
       " 32.88413446760052,\n",
       " 32.534019923611325,\n",
       " 31.709845691351646,\n",
       " 30.440367729215765,\n",
       " 28.769878923383274,\n",
       " 27.751858011689194,\n",
       " 26.14600919050212,\n",
       " 24.833038509210592,\n",
       " 23.75953022674549]"
      ]
     },
     "execution_count": 78,
     "metadata": {},
     "output_type": "execute_result"
    }
   ],
   "source": [
    "sRise, sSet = GetSunriseSunsetTimes(114, 28.233333333333, -104.2, -6)\n",
    "print (sRise, sSet)\n",
    "[InterpolateHourlyTemperature(hr, sRise, sSet, 18.947, 32.896) for hr in hrs]"
   ]
  },
  {
   "cell_type": "code",
   "execution_count": 68,
   "metadata": {
    "collapsed": false
   },
   "outputs": [],
   "source": [
    "def CalcDaylightHrsForsyth(JulianDay, lat):\n",
    "    daylengthCoefficient = 0.8333;\n",
    "    theta = 0.2163108 + 2 * Math.atan(0.9671396 * Math.tan(0.00860 * (JulianDay - 186)));\n",
    "    phi = Math.asin(0.39795 * Math.cos(theta));\n",
    "    hrs = 24 - (24 / Math.pi) * Math.acos(\n",
    "        (Math.sin(daylengthCoefficient * Math.pi / 180) + Math.sin(lat * Math.pi / 180) * Math.sin(phi))\n",
    "        /\n",
    "        (Math.cos(lat * Math.pi / 180) * Math.cos(phi)));\n",
    "    return hrs"
   ]
  },
  {
   "cell_type": "code",
   "execution_count": 69,
   "metadata": {
    "collapsed": false
   },
   "outputs": [
    {
     "data": {
      "text/plain": [
       "13.049311020655045"
      ]
     },
     "execution_count": 69,
     "metadata": {},
     "output_type": "execute_result"
    }
   ],
   "source": [
    "CalcDaylightHrsForsyth(114, 28.233)"
   ]
  },
  {
   "cell_type": "code",
   "execution_count": null,
   "metadata": {
    "collapsed": true
   },
   "outputs": [],
   "source": []
  }
 ],
 "metadata": {
  "kernelspec": {
   "display_name": "Python 2",
   "language": "python",
   "name": "python2"
  },
  "language_info": {
   "codemirror_mode": {
    "name": "ipython",
    "version": 2
   },
   "file_extension": ".py",
   "mimetype": "text/x-python",
   "name": "python",
   "nbconvert_exporter": "python",
   "pygments_lexer": "ipython2",
   "version": "2.7.5"
  }
 },
 "nbformat": 4,
 "nbformat_minor": 2
}
